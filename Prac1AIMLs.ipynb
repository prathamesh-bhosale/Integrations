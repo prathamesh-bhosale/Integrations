{
  "nbformat": 4,
  "nbformat_minor": 0,
  "metadata": {
    "colab": {
      "name": "Prac1AIMLs.ipynb",
      "provenance": [],
      "collapsed_sections": [],
      "include_colab_link": true
    },
    "kernelspec": {
      "name": "python3",
      "display_name": "Python 3"
    },
    "language_info": {
      "name": "python"
    }
  },
  "cells": [
    {
      "cell_type": "markdown",
      "metadata": {
        "id": "view-in-github",
        "colab_type": "text"
      },
      "source": [
        "<a href=\"https://colab.research.google.com/github/prathamesh-bhosale/Integrations/blob/master/Prac1AIMLs.ipynb\" target=\"_parent\"><img src=\"https://colab.research.google.com/assets/colab-badge.svg\" alt=\"Open In Colab\"/></a>"
      ]
    },
    {
      "cell_type": "markdown",
      "source": [
        "Program 1. : **Hello World**\n",
        "\n",
        "---\n",
        "\n"
      ],
      "metadata": {
        "id": "ZPfvxM9WHqBS"
      }
    },
    {
      "cell_type": "code",
      "execution_count": null,
      "metadata": {
        "colab": {
          "base_uri": "https://localhost:8080/"
        },
        "id": "egNESD4xN-9x",
        "outputId": "1a4610c3-a7ed-4a14-8a27-1d7a7f078fd8"
      },
      "outputs": [
        {
          "output_type": "stream",
          "name": "stdout",
          "text": [
            "Hello World\n"
          ]
        }
      ],
      "source": [
        "print(\"Hello World\")"
      ]
    },
    {
      "cell_type": "markdown",
      "source": [
        "\n",
        "\n",
        "---\n",
        "\n"
      ],
      "metadata": {
        "id": "IaKN4lyxH6uV"
      }
    },
    {
      "cell_type": "markdown",
      "source": [
        "Program 2. : **Operators Examples:**"
      ],
      "metadata": {
        "id": "P5VXiWeDH8eV"
      }
    },
    {
      "cell_type": "code",
      "source": [
        "a = int(input(\"enter no1 : \"))\n",
        "op = input(\"enter operator (+,-,*15,/,**): \")\n",
        "b = int(input(\"enter no2 : \"))\n",
        "try:\n",
        "  if op == '+' :\n",
        "    print(a , \" + \", b , \" = \" , a+b)\n",
        "  elif op == '-' :\n",
        "    print(a , \" - \", b , \" = \" , a-b)\n",
        "  elif op == '*' :\n",
        "    print(a , \" * \", b , \" = \" , a*b)\n",
        "  elif op == '/' :\n",
        "    print(a , \" / \", b , \" = \" , a/b)\n",
        "  elif op == '**':\n",
        "    print(a , \" ** \", b , \" = \" , a**b)\n",
        "  else:\n",
        "    print(\"Enter Valid operator\")\n",
        "except Exception as e:\n",
        "    print(\"Error occured .\")\n"
      ],
      "metadata": {
        "colab": {
          "base_uri": "https://localhost:8080/"
        },
        "id": "ltB0gDKfOLEd",
        "outputId": "89515ff4-4a43-4567-ccca-8b0f852e6e60"
      },
      "execution_count": null,
      "outputs": [
        {
          "output_type": "stream",
          "name": "stdout",
          "text": [
            "enter no1 : 23\n",
            "enter operator (+,-,*,/,**): -\n",
            "enter no2 : 15\n",
            "23  -  15  =  8\n"
          ]
        }
      ]
    },
    {
      "cell_type": "markdown",
      "source": [
        "\n",
        "\n",
        "---\n",
        "\n"
      ],
      "metadata": {
        "id": "VWEyD0ywIVKm"
      }
    },
    {
      "cell_type": "markdown",
      "source": [
        "Program 3. : **Area of Circle Program**"
      ],
      "metadata": {
        "id": "Xt4HWY_MIbwH"
      }
    },
    {
      "cell_type": "code",
      "source": [
        "from math import pi\n",
        "try:\n",
        "  r = int(input(\"enter radius: \"))\n",
        "  print(\" Area of Circle with radius  \" , r , \" is\" , pi*r*r)\n",
        "except Exception as e:\n",
        "  print(e)\n",
        "\n"
      ],
      "metadata": {
        "colab": {
          "base_uri": "https://localhost:8080/"
        },
        "id": "vNvkSrbEPEjc",
        "outputId": "87aefccc-c3e7-4d88-b6ab-0a880e8813cd"
      },
      "execution_count": null,
      "outputs": [
        {
          "output_type": "stream",
          "name": "stdout",
          "text": [
            "enter radius: 7\n",
            " Area of Circle with radius   7  is 153.93804002589985\n"
          ]
        }
      ]
    },
    {
      "cell_type": "markdown",
      "source": [
        "\n",
        "\n",
        "---\n",
        "\n"
      ],
      "metadata": {
        "id": "icz4k2PLIknl"
      }
    },
    {
      "cell_type": "markdown",
      "source": [
        "Program 4. : **Area of Triangle Program**"
      ],
      "metadata": {
        "id": "Z2cFQALxImcT"
      }
    },
    {
      "cell_type": "code",
      "source": [
        "b = int(input(\"enter base: \"))\n",
        "h = int(input(\"enter height: \"))\n",
        "print(\"Area of Traingle with base  \" , b , \" and height  \" , h , \" is\" , (b*h)/2)\n"
      ],
      "metadata": {
        "colab": {
          "base_uri": "https://localhost:8080/"
        },
        "id": "Du5sjYouPysW",
        "outputId": "ef2c20fe-1f25-452d-8569-04baf63d15af"
      },
      "execution_count": null,
      "outputs": [
        {
          "output_type": "stream",
          "name": "stdout",
          "text": [
            "enter base: 3\n",
            "enter height: 8\n",
            "Area of Traingle with base   3  and height   8  is 12.0\n"
          ]
        }
      ]
    },
    {
      "cell_type": "markdown",
      "source": [
        "\n",
        "\n",
        "---\n",
        "\n"
      ],
      "metadata": {
        "id": "JarqBGIwIqoy"
      }
    },
    {
      "cell_type": "markdown",
      "source": [
        "Program 5. : **Multiplication Table Program**"
      ],
      "metadata": {
        "id": "DUAykOh7Ir0Z"
      }
    },
    {
      "cell_type": "code",
      "source": [
        "i = int(input(\"enter the number : \"))\n",
        "try:\n",
        "  \n",
        "  for m in range(1,6):\n",
        "    print( i , \" X \" , m,\"=\", i * m)\n",
        "\n",
        "  n = 5\n",
        "  while(n <= 10):\n",
        "    print( i , \" X \" , n,\"=\", i * n)\n",
        "    n = n + 1\n",
        "except Exception as e:\n",
        "  print(e)\n",
        "\n"
      ],
      "metadata": {
        "colab": {
          "base_uri": "https://localhost:8080/"
        },
        "id": "lhxdvx2nQhKN",
        "outputId": "30a5f02b-03f7-409f-ba25-004af83f6700"
      },
      "execution_count": null,
      "outputs": [
        {
          "output_type": "stream",
          "name": "stdout",
          "text": [
            "enter the number : 7\n",
            "7  X  1 = 7\n",
            "7  X  2 = 14\n",
            "7  X  3 = 21\n",
            "7  X  4 = 28\n",
            "7  X  5 = 35\n",
            "7  X  5 = 35\n",
            "7  X  6 = 42\n",
            "7  X  7 = 49\n",
            "7  X  8 = 56\n",
            "7  X  9 = 63\n",
            "7  X  10 = 70\n"
          ]
        }
      ]
    },
    {
      "cell_type": "markdown",
      "source": [
        "\n",
        "\n",
        "---\n",
        "\n"
      ],
      "metadata": {
        "id": "6qD4vlfmIxdx"
      }
    },
    {
      "cell_type": "markdown",
      "source": [
        "Program 6. : **Print First 50 Odd-Even Numbers Program**"
      ],
      "metadata": {
        "id": "jFoB0PawIyqR"
      }
    },
    {
      "cell_type": "code",
      "source": [
        "\n",
        "for x in range(1,51):\n",
        "  if(x%2==0):\n",
        "    print(x ,\": even\" )\n",
        "  else:\n",
        "    print(x ,\": odd\" )\n",
        "\n"
      ],
      "metadata": {
        "colab": {
          "base_uri": "https://localhost:8080/"
        },
        "id": "1FbKUG7ZR9Md",
        "outputId": "ce2731d8-3f94-4863-e98b-92e22bd448cb"
      },
      "execution_count": null,
      "outputs": [
        {
          "output_type": "stream",
          "name": "stdout",
          "text": [
            "1 : odd\n",
            "2 : even\n",
            "3 : odd\n",
            "4 : even\n",
            "5 : odd\n",
            "6 : even\n",
            "7 : odd\n",
            "8 : even\n",
            "9 : odd\n",
            "10 : even\n",
            "11 : odd\n",
            "12 : even\n",
            "13 : odd\n",
            "14 : even\n",
            "15 : odd\n",
            "16 : even\n",
            "17 : odd\n",
            "18 : even\n",
            "19 : odd\n",
            "20 : even\n",
            "21 : odd\n",
            "22 : even\n",
            "23 : odd\n",
            "24 : even\n",
            "25 : odd\n",
            "26 : even\n",
            "27 : odd\n",
            "28 : even\n",
            "29 : odd\n",
            "30 : even\n",
            "31 : odd\n",
            "32 : even\n",
            "33 : odd\n",
            "34 : even\n",
            "35 : odd\n",
            "36 : even\n",
            "37 : odd\n",
            "38 : even\n",
            "39 : odd\n",
            "40 : even\n",
            "41 : odd\n",
            "42 : even\n",
            "43 : odd\n",
            "44 : even\n",
            "45 : odd\n",
            "46 : even\n",
            "47 : odd\n",
            "48 : even\n",
            "49 : odd\n",
            "50 : even\n"
          ]
        }
      ]
    },
    {
      "cell_type": "markdown",
      "source": [
        "\n",
        "---\n",
        "\n"
      ],
      "metadata": {
        "id": "KdHRszECI5V2"
      }
    },
    {
      "cell_type": "markdown",
      "source": [
        "Program 7. : **Program to check number is prime or not**"
      ],
      "metadata": {
        "id": "v2K7382WI-9A"
      }
    },
    {
      "cell_type": "code",
      "source": [
        "i = int(input(\"enter the number : \"))\n",
        "try:\n",
        "    if i > 1:    \n",
        "        for n in range(2, int(i/2)+1):\n",
        "            if (i % n) == 0:\n",
        "                print(i, \"is not a prime number\")\n",
        "                break\n",
        "        else:\n",
        "            print(i, \"is a prime number\")\n",
        "    else:\n",
        "        print(i, \"is not a prime number\")\n",
        "except Exception as e:\n",
        "    print(e)"
      ],
      "metadata": {
        "colab": {
          "base_uri": "https://localhost:8080/"
        },
        "id": "r8CI7mhSU29l",
        "outputId": "48225b2c-346e-4e06-e404-1ced57602abe"
      },
      "execution_count": null,
      "outputs": [
        {
          "output_type": "stream",
          "name": "stdout",
          "text": [
            "enter the number : 7\n",
            "7 is a prime number\n"
          ]
        }
      ]
    },
    {
      "cell_type": "markdown",
      "source": [
        "\n",
        "\n",
        "---\n",
        "\n"
      ],
      "metadata": {
        "id": "I86WG7LUJFty"
      }
    },
    {
      "cell_type": "markdown",
      "source": [
        "Program 8. : **Program to enter name in pattern of triangle**"
      ],
      "metadata": {
        "id": "fHosKQR7JHIk"
      }
    },
    {
      "cell_type": "code",
      "source": [
        "name = input(\"Enter the Name to make pattern: \")\n",
        "try:\n",
        "    num = 1\n",
        "    k = len(name) - 1\n",
        "    for i in range(len(name)):\n",
        "      num = 1\n",
        "      for j in range(k):\n",
        "        print(end=' ')\n",
        "      k = k - 1\n",
        "      for j in range(0,i+1):\n",
        "        print(name[j].upper(), end=' ')\n",
        "        num = num + 1\n",
        "      print('\\n')\n",
        "except Exception as e:\n",
        "  print(e)\n",
        "\n"
      ],
      "metadata": {
        "colab": {
          "base_uri": "https://localhost:8080/",
          "height": 0
        },
        "id": "3Sp4vNC2Xm5e",
        "outputId": "5496a685-9cdf-4253-a46a-969b5cbd7d47"
      },
      "execution_count": 7,
      "outputs": [
        {
          "output_type": "stream",
          "name": "stdout",
          "text": [
            "Enter the Name to make pattern: prathamesh\n",
            "         P \n",
            "\n",
            "        P R \n",
            "\n",
            "       P R A \n",
            "\n",
            "      P R A T \n",
            "\n",
            "     P R A T H \n",
            "\n",
            "    P R A T H A \n",
            "\n",
            "   P R A T H A M \n",
            "\n",
            "  P R A T H A M E \n",
            "\n",
            " P R A T H A M E S \n",
            "\n",
            "P R A T H A M E S H \n",
            "\n"
          ]
        }
      ]
    },
    {
      "cell_type": "markdown",
      "source": [
        "\n",
        "\n",
        "---\n",
        "\n"
      ],
      "metadata": {
        "id": "r3YcuM8SOiQ5"
      }
    },
    {
      "cell_type": "markdown",
      "source": [
        "Program 9. : **Program to check year is leap year or not**"
      ],
      "metadata": {
        "id": "Z41E6067OWuU"
      }
    },
    {
      "cell_type": "code",
      "source": [
        "i = int(input(\"enter year : \"))\n",
        "try:\n",
        "  if ((i%400 == 0 and i%100==0) or (i%4 == 0 and i%100!=0)):\n",
        "    print(i ,\" is a leap year\")\n",
        "  else:\n",
        "    print(f\"{i} is not a leap year\")\n",
        "\n",
        "except Exception as e:\n",
        "  print(e)\n"
      ],
      "metadata": {
        "colab": {
          "base_uri": "https://localhost:8080/",
          "height": 0
        },
        "id": "Gn9EorjVuxpJ",
        "outputId": "e6dd76b0-1818-439d-8320-e65836945fc8"
      },
      "execution_count": 11,
      "outputs": [
        {
          "output_type": "stream",
          "name": "stdout",
          "text": [
            "enter year : 2008\n",
            "2008  is a leap year\n"
          ]
        }
      ]
    },
    {
      "cell_type": "markdown",
      "source": [
        "\n",
        "\n",
        "---\n",
        "\n"
      ],
      "metadata": {
        "id": "8iTOwrqjOwax"
      }
    },
    {
      "cell_type": "markdown",
      "source": [
        "Program 9. : **Program to check word is palindrome or not**"
      ],
      "metadata": {
        "id": "mEQb4oZzOxnT"
      }
    },
    {
      "cell_type": "code",
      "source": [
        "wd = input(\"enter a word : \").upper()\n",
        "try:\n",
        "    if wd == wd[::-1]:\n",
        "      print(wd , \"is palindrome\")\n",
        "    else:\n",
        "      print(wd , \"is not palindrome\")\n",
        "except Exception as e:\n",
        "  print(e)"
      ],
      "metadata": {
        "colab": {
          "base_uri": "https://localhost:8080/",
          "height": 0
        },
        "id": "tKvolM9Nqt20",
        "outputId": "476cb71a-d2be-4c51-c814-9dbc459ac349"
      },
      "execution_count": 12,
      "outputs": [
        {
          "output_type": "stream",
          "name": "stdout",
          "text": [
            "enter a word :racecar\n",
            "RACECAR is palindrome\n"
          ]
        }
      ]
    },
    {
      "cell_type": "markdown",
      "source": [
        "\n",
        "\n",
        "---\n",
        "\n"
      ],
      "metadata": {
        "id": "rzu98he6On_W"
      }
    },
    {
      "cell_type": "markdown",
      "source": [
        ""
      ],
      "metadata": {
        "id": "icmBx44UOp01"
      }
    },
    {
      "cell_type": "code",
      "source": [
        "stDetails = {}\n",
        "try:\n",
        "    t = 1\n",
        "    len = 0\n",
        "    while t == 1:\n",
        "       # stDetails = {} , len = 0 , use this initialization to start new dictionary each time\n",
        "        n = int(input(\"Enter number of new students to store in dictionary: \"))\n",
        "        for i in range(len,len+n):\n",
        "            stDetails[i+1]={}\n",
        "            stDetails[i+1]['Roll No.'] = int(input(\"enter Roll number of new student : \"))\n",
        "            stDetails[i+1]['Name'] = input(\"enter Full Name of new student : \")\n",
        "            stDetails[i+1]['Address'] = input(\"Enter Student Address : \")\n",
        "            len = len + 1\n",
        "        print(\"\\n Printing Stored Students\")\n",
        "        for key, value in stDetails.items():\n",
        "            print('Sr.no. ', key , \" : \")\n",
        "            for k, v in value.items():\n",
        "                print(\"\\t \", k + \" : \", value[k])\n",
        "        cont = (input(\"if u want to exit press y or yes or exit & anything else to continue : \")).lower()\n",
        "        if (cont == 'yes' or cont == 'exit' or cont =='y'):\n",
        "          t = 0\n",
        "except Exception as e:\n",
        "    print(e)\n",
        "print(\"----\")\n",
        "\n",
        "\n"
      ],
      "metadata": {
        "colab": {
          "base_uri": "https://localhost:8080/",
          "height": 0
        },
        "id": "IArNJifA0Gst",
        "outputId": "81462c82-0259-4af4-83b1-828c4e35ceee"
      },
      "execution_count": 17,
      "outputs": [
        {
          "output_type": "stream",
          "name": "stdout",
          "text": [
            "Enter number of new students to store in dictionary: 3\n",
            "enter Roll number of new student : 1\n",
            "enter Full Name of new student : Prathamesh\n",
            "Enter Student Address : Mumbai\n",
            "enter Roll number of new student : 2\n",
            "enter Full Name of new student : Jayesh\n",
            "Enter Student Address : Navi Mumbai\n",
            "enter Roll number of new student : 3\n",
            "enter Full Name of new student : Rushi\n",
            "Enter Student Address : Thane\n",
            "\n",
            " Printing Stored Students\n",
            "Sr.no.  1  : \n",
            "\t  Roll No. :  1\n",
            "\t  Name :  Prathamesh\n",
            "\t  Address :  Mumbai\n",
            "Sr.no.  2  : \n",
            "\t  Roll No. :  2\n",
            "\t  Name :  Jayesh\n",
            "\t  Address :  Navi Mumbai\n",
            "Sr.no.  3  : \n",
            "\t  Roll No. :  3\n",
            "\t  Name :  Rushi\n",
            "\t  Address :  Thane\n",
            "if u want to exit press y or yes or exit & anything else to continue : no\n",
            "Enter number of new students to store in dictionary: 2\n",
            "enter Roll number of new student : 4\n",
            "enter Full Name of new student : James\n",
            "Enter Student Address : UK\n",
            "enter Roll number of new student : 5\n",
            "enter Full Name of new student : Animesh\n",
            "Enter Student Address : Madhya Pradesh\n",
            "\n",
            " Printing Stored Students\n",
            "Sr.no.  1  : \n",
            "\t  Roll No. :  1\n",
            "\t  Name :  Prathamesh\n",
            "\t  Address :  Mumbai\n",
            "Sr.no.  2  : \n",
            "\t  Roll No. :  2\n",
            "\t  Name :  Jayesh\n",
            "\t  Address :  Navi Mumbai\n",
            "Sr.no.  3  : \n",
            "\t  Roll No. :  3\n",
            "\t  Name :  Rushi\n",
            "\t  Address :  Thane\n",
            "Sr.no.  4  : \n",
            "\t  Roll No. :  4\n",
            "\t  Name :  James\n",
            "\t  Address :  UK\n",
            "Sr.no.  5  : \n",
            "\t  Roll No. :  5\n",
            "\t  Name :  Animesh\n",
            "\t  Address :  Madhya Pradesh\n",
            "if u want to exit press y or yes or exit & anything else to continue : y\n",
            "----\n"
          ]
        }
      ]
    }
  ]
}